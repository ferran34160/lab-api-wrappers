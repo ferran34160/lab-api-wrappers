{
 "cells": [
  {
   "cell_type": "markdown",
   "id": "8555bfeb",
   "metadata": {},
   "source": [
    "# Lab | API wrappers"
   ]
  },
  {
   "cell_type": "code",
   "execution_count": 114,
   "id": "e18fa823",
   "metadata": {},
   "outputs": [],
   "source": [
    "from bs4 import BeautifulSoup\n",
    "import requests\n",
    "import pandas as pd"
   ]
  },
  {
   "cell_type": "code",
   "execution_count": 12,
   "id": "d8379f15",
   "metadata": {},
   "outputs": [
    {
     "data": {
      "text/plain": [
       "200"
      ]
     },
     "execution_count": 12,
     "metadata": {},
     "output_type": "execute_result"
    }
   ],
   "source": [
    "# Getting the playlists from this website \"The Best Spotify Playlists in 2021\"\n",
    "url = \"https://audiohype.io/resources/the-best-spotify-playlists/\"\n",
    "response = requests.get(url)\n",
    "response.status_code "
   ]
  },
  {
   "cell_type": "code",
   "execution_count": 13,
   "id": "4738ac9a",
   "metadata": {},
   "outputs": [],
   "source": [
    "soup = BeautifulSoup(response.content, \"html.parser\")"
   ]
  },
  {
   "cell_type": "code",
   "execution_count": 41,
   "id": "1060c1d4",
   "metadata": {},
   "outputs": [
    {
     "data": {
      "text/plain": [
       "['37i9dQZF1DXcBWIGoYBM5M',\n",
       " '31ymdYCITDnZRtkKzP3Itp',\n",
       " '0cc8YMQWsSzODyTpdVB6mI',\n",
       " '37i9dQZF1DX5hHfOi73rY3',\n",
       " '37i9dQZF1DXa71eg5j9dKZ',\n",
       " '4kw9kdjzx1UmyWvpysl0y2',\n",
       " '1xNWydoMmA8210KeHU948w',\n",
       " '6vDGVr652ztNWKZuHvsFvx',\n",
       " '6J1r02xyO2qkMA9dDNZytJ',\n",
       " '5wtqmpRl17iVz2nW8U6njL',\n",
       " '0NCspsyf0OS4BsPgGhkQXM',\n",
       " '19y0UVk0bcrJWEqMwBHosj',\n",
       " '4oOZJEq1TBUti6PSouTo5M',\n",
       " '068WHS0zOWsqvn2uIBYb5D',\n",
       " '6ZTpgxK6BT92mmsqwETj9l',\n",
       " '37i9dQZF1DWSvKsRPPnv5o',\n",
       " '37i9dQZF1DXe4Cw8IKKIvr',\n",
       " '37i9dQZF1DXcDoDDetPsEg',\n",
       " '65xSncKQzG6Suseh5gfYP1',\n",
       " '0MSCX9tZWQmitMQsfhvZIl',\n",
       " '1PmwMQY86pJuAm7veFt3u2',\n",
       " '1cwmC5BQ6IIuLsbyZNBIJl',\n",
       " '6wjCvkAFovrVIRM8VfZLZG',\n",
       " '37i9dQZF1DWVV27DiNWxkR',\n",
       " '37i9dQZF1DWVzZlRWgqAGH',\n",
       " '37i9dQZF1DXc8kgYqQLMfH',\n",
       " '31FWVQBp3WQydWLNhO0ACi',\n",
       " '37i9dQZF1DXa9wYJr1oMFq',\n",
       " '37i9dQZF1DX8FwnYE6PRvL']"
      ]
     },
     "execution_count": 41,
     "metadata": {},
     "output_type": "execute_result"
    }
   ],
   "source": [
    "# I read 29 playlists ids\n",
    "playlists_ids = []\n",
    "num_iter = len(soup.select(\"h3\"))\n",
    "for i in range(num_iter):\n",
    "    temp = soup.select(\"h3 a\")[i][\"href\"]\n",
    "    playlists_ids.append(temp.split('playlist/')[1].split('?')[0])\n",
    "playlists_ids\n"
   ]
  },
  {
   "cell_type": "code",
   "execution_count": 1,
   "id": "8dd7c249",
   "metadata": {},
   "outputs": [],
   "source": [
    "secrets_file = open(\"secrets.txt\",\"r\")\n",
    "string = secrets_file.read()\n",
    "secrets_dict={}\n",
    "for line in string.split('\\n'):\n",
    "    if len(line) > 0:\n",
    "        secrets_dict[line.split(':')[0]]=line.split(':')[1]"
   ]
  },
  {
   "cell_type": "code",
   "execution_count": 2,
   "id": "fb8bbf46",
   "metadata": {},
   "outputs": [],
   "source": [
    "import spotipy\n",
    "from spotipy.oauth2 import SpotifyClientCredentials\n",
    "\n",
    "#Initialize SpotiPy with user credentials\n",
    "sp = spotipy.Spotify(auth_manager=SpotifyClientCredentials(client_id=secrets_dict['cid'],\n",
    "                                                           client_secret=secrets_dict['csecret']))"
   ]
  },
  {
   "cell_type": "code",
   "execution_count": 91,
   "id": "f2912c5c",
   "metadata": {},
   "outputs": [],
   "source": [
    "def get_name_artists_from_track(track):\n",
    "    return [(track[\"name\"],artist[\"name\"],track[\"uri\"],sp.audio_features(track[\"uri\"])) for artist in track[\"artists\"]]\n",
    "\n",
    "def get_name_artists_from_playlist_item(playlist_item):\n",
    "    return get_name_artists_from_track(playlist_item['track'])\n",
    "\n",
    "def get_name_artists_from_playlist(playlist):\n",
    "    return list(map(get_name_artists_from_playlist_item, playlist['items']))\n",
    "\n",
    "def flatten(input_list):\n",
    "    return [item for sublist in input_list for item in sublist]"
   ]
  },
  {
   "cell_type": "code",
   "execution_count": 115,
   "id": "4bf7a65b",
   "metadata": {},
   "outputs": [
    {
     "name": "stdout",
     "output_type": "stream",
     "text": [
      "Playlist:  5wtqmpRl17iVz2nW8U6njL <-- There is an error with this playlist:\n"
     ]
    }
   ],
   "source": [
    "# Reading all playlists and collecting song, artist and audio features\n",
    "\n",
    "from random import randint\n",
    "from time import sleep\n",
    "\n",
    "all_songs = []\n",
    "for i in range(len(playlists_ids)):\n",
    "        playlist = sp.user_playlist_tracks(\"spotify\", playlists_ids[i])\n",
    "        try:\n",
    "            all_songs += (flatten(get_name_artists_from_playlist(playlist)))\n",
    "        except:\n",
    "            print(\"Playlist: \", playlists_ids[i], \"<-- There is an error with this playlist:\")\n",
    "        sleep(randint(1,3))"
   ]
  },
  {
   "cell_type": "code",
   "execution_count": 116,
   "id": "9550a16d",
   "metadata": {},
   "outputs": [
    {
     "data": {
      "text/plain": [
       "3202"
      ]
     },
     "execution_count": 116,
     "metadata": {},
     "output_type": "execute_result"
    }
   ],
   "source": [
    "len(all_songs)"
   ]
  },
  {
   "cell_type": "code",
   "execution_count": 135,
   "id": "0c1349d4",
   "metadata": {},
   "outputs": [
    {
     "data": {
      "text/plain": [
       "('Oh My God',\n",
       " 'Adele',\n",
       " 'spotify:track:3Kkjo3cT83cw09VJyrLNwX',\n",
       " [{'danceability': 0.534,\n",
       "   'energy': 0.725,\n",
       "   'key': 1,\n",
       "   'loudness': -3.906,\n",
       "   'mode': 1,\n",
       "   'speechiness': 0.046,\n",
       "   'acousticness': 0.091,\n",
       "   'instrumentalness': 0,\n",
       "   'liveness': 0.0264,\n",
       "   'valence': 0.55,\n",
       "   'tempo': 88.098,\n",
       "   'type': 'audio_features',\n",
       "   'id': '3Kkjo3cT83cw09VJyrLNwX',\n",
       "   'uri': 'spotify:track:3Kkjo3cT83cw09VJyrLNwX',\n",
       "   'track_href': 'https://api.spotify.com/v1/tracks/3Kkjo3cT83cw09VJyrLNwX',\n",
       "   'analysis_url': 'https://api.spotify.com/v1/audio-analysis/3Kkjo3cT83cw09VJyrLNwX',\n",
       "   'duration_ms': 225149,\n",
       "   'time_signature': 4}])"
      ]
     },
     "execution_count": 135,
     "metadata": {},
     "output_type": "execute_result"
    }
   ],
   "source": [
    "all_songs[0]"
   ]
  },
  {
   "cell_type": "code",
   "execution_count": 137,
   "id": "dd83a887",
   "metadata": {},
   "outputs": [],
   "source": [
    "import pickle\n",
    "\n",
    "with open(\"all_songs.txt\", \"wb\") as f:   #Pickling\n",
    "    pickle.dump(all_songs, f)"
   ]
  },
  {
   "cell_type": "code",
   "execution_count": 134,
   "id": "079cce88",
   "metadata": {},
   "outputs": [],
   "source": []
  },
  {
   "cell_type": "code",
   "execution_count": null,
   "id": "290a01bb",
   "metadata": {},
   "outputs": [],
   "source": []
  }
 ],
 "metadata": {
  "kernelspec": {
   "display_name": "Python 3",
   "language": "python",
   "name": "python3"
  },
  "language_info": {
   "codemirror_mode": {
    "name": "ipython",
    "version": 3
   },
   "file_extension": ".py",
   "mimetype": "text/x-python",
   "name": "python",
   "nbconvert_exporter": "python",
   "pygments_lexer": "ipython3",
   "version": "3.8.8"
  }
 },
 "nbformat": 4,
 "nbformat_minor": 5
}
